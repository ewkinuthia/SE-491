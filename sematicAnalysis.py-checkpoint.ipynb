{
 "cells": [
  {
   "cell_type": "code",
   "execution_count": 5,
   "metadata": {},
   "outputs": [],
   "source": [
    "import pandas as pd\n",
    "import numpy as np\n",
    "from nltk.corpus import stopwords\n",
    "import nltk\n",
    "import re\n",
    "from sklearn.feature_extraction.text import TfidfVectorizer \n",
    "from sklearn.metrics.pairwise import cosine_similarity\n",
    "from sklearn.metrics.pairwise import euclidean_distances"
   ]
  },
  {
   "cell_type": "code",
   "execution_count": 54,
   "metadata": {},
   "outputs": [],
   "source": [
    "text_files = [(\"C:\\\\Users\\\\shish\\\\EleenGu.txt\"),(\"C:\\\\Users\\\\shish\\\\Gu.txt.txt\"), (\"C:\\\\Users\\\\shish\\\\roses.txt\")]\n",
    "data = [open(f).read() for f in text_files]"
   ]
  },
  {
   "cell_type": "code",
   "execution_count": 55,
   "metadata": {},
   "outputs": [
    {
     "data": {
      "text/plain": [
       "<3x120 sparse matrix of type '<class 'numpy.int64'>'\n",
       "\twith 153 stored elements in Compressed Sparse Row format>"
      ]
     },
     "execution_count": 55,
     "metadata": {},
     "output_type": "execute_result"
    }
   ],
   "source": [
    "from sklearn.feature_extraction.text import CountVectorizer\n",
    "count_vectorizer = CountVectorizer()\n",
    "vector_matrix = count_vectorizer.fit_transform(data)\n",
    "vector_matrix"
   ]
  },
  {
   "cell_type": "code",
   "execution_count": 75,
   "metadata": {
    "scrolled": false
   },
   "outputs": [
    {
     "data": {
      "text/plain": [
       "['10',\n",
       " 'about',\n",
       " 'all',\n",
       " 'amongst',\n",
       " 'and',\n",
       " 'any',\n",
       " 'are',\n",
       " 'as',\n",
       " 'ask',\n",
       " 'attractive',\n",
       " 'beautiful',\n",
       " 'beautify',\n",
       " 'beauty',\n",
       " 'been',\n",
       " 'below',\n",
       " 'box',\n",
       " 'by',\n",
       " 'call',\n",
       " 'can',\n",
       " 'colours',\n",
       " 'comment',\n",
       " 'commenting',\n",
       " 'compassion',\n",
       " 'created',\n",
       " 'decorative',\n",
       " 'different',\n",
       " 'english',\n",
       " 'essay',\n",
       " 'eternal',\n",
       " 'everything',\n",
       " 'face',\n",
       " 'favourite',\n",
       " 'flower',\n",
       " 'flowers',\n",
       " 'flowerâ',\n",
       " 'for',\n",
       " 'found',\n",
       " 'fragrances',\n",
       " 'friends',\n",
       " 'garlands',\n",
       " 'glorified',\n",
       " 'god',\n",
       " 'going',\n",
       " 'grow',\n",
       " 'grows',\n",
       " 'has',\n",
       " 'have',\n",
       " 'here',\n",
       " 'hope',\n",
       " 'if',\n",
       " 'in',\n",
       " 'is',\n",
       " 'it',\n",
       " 'just',\n",
       " 'king',\n",
       " 'known',\n",
       " 'like',\n",
       " 'lines',\n",
       " 'literature',\n",
       " 'love',\n",
       " 'many',\n",
       " 'me',\n",
       " 'more',\n",
       " 'most',\n",
       " 'my',\n",
       " 'now',\n",
       " 'of',\n",
       " 'on',\n",
       " 'or',\n",
       " 'other',\n",
       " 'out',\n",
       " 'over',\n",
       " 'packs',\n",
       " 'petals',\n",
       " 'pink',\n",
       " 'places',\n",
       " 'plant',\n",
       " 'popularly',\n",
       " 'preparing',\n",
       " 'problem',\n",
       " 'problems',\n",
       " 'protect',\n",
       " 'provided',\n",
       " 'queen',\n",
       " 'read',\n",
       " 'red',\n",
       " 'rose',\n",
       " 'roses',\n",
       " 'shapes',\n",
       " 'short',\n",
       " 'signs',\n",
       " 'sizes',\n",
       " 'small',\n",
       " 'so',\n",
       " 'solve',\n",
       " 'some',\n",
       " 'stand',\n",
       " 'stem',\n",
       " 'students',\n",
       " 'tell',\n",
       " 'terms',\n",
       " 'that',\n",
       " 'the',\n",
       " 'then',\n",
       " 'they',\n",
       " 'thorns',\n",
       " 'to',\n",
       " 'topic',\n",
       " 'understood',\n",
       " 'used',\n",
       " 'varieties',\n",
       " 'very',\n",
       " 'want',\n",
       " 'we',\n",
       " 'white',\n",
       " 'world',\n",
       " 'worship',\n",
       " 'yellow',\n",
       " 'you',\n",
       " 'your']"
      ]
     },
     "execution_count": 75,
     "metadata": {},
     "output_type": "execute_result"
    }
   ],
   "source": [
    "tokens = count_vectorizer.get_feature_names()\n",
    "tokens"
   ]
  },
  {
   "cell_type": "code",
   "execution_count": 76,
   "metadata": {},
   "outputs": [
    {
     "data": {
      "text/plain": [
       "array([[0, 0, 2, 1, 5, 0, 1, 1, 0, 1, 1, 1, 1, 1, 0, 0, 0, 0, 0, 1, 0, 0,\n",
       "        1, 0, 1, 1, 0, 0, 1, 0, 1, 0, 1, 2, 0, 1, 1, 1, 0, 1, 1, 0, 0, 0,\n",
       "        1, 1, 0, 0, 0, 0, 4, 1, 1, 0, 0, 0, 1, 0, 1, 1, 0, 0, 0, 0, 0, 0,\n",
       "        4, 1, 0, 1, 1, 0, 1, 1, 1, 1, 1, 1, 1, 0, 0, 1, 0, 1, 0, 1, 2, 0,\n",
       "        0, 0, 1, 0, 1, 0, 0, 0, 1, 1, 0, 0, 1, 0, 4, 0, 2, 1, 0, 0, 0, 1,\n",
       "        1, 1, 0, 0, 1, 0, 1, 1, 0, 0],\n",
       "       [0, 0, 1, 0, 4, 0, 4, 2, 0, 0, 2, 0, 0, 0, 0, 0, 0, 2, 0, 2, 0, 0,\n",
       "        0, 1, 0, 3, 0, 0, 0, 0, 0, 1, 3, 3, 1, 0, 1, 0, 0, 0, 0, 1, 0, 1,\n",
       "        0, 1, 0, 0, 0, 0, 1, 2, 2, 0, 1, 1, 1, 0, 0, 1, 1, 0, 1, 1, 1, 0,\n",
       "        4, 0, 0, 0, 0, 1, 0, 0, 1, 0, 0, 0, 0, 0, 0, 0, 0, 1, 0, 1, 3, 1,\n",
       "        1, 0, 0, 1, 0, 0, 0, 2, 0, 0, 0, 0, 0, 0, 6, 0, 1, 0, 0, 0, 0, 0,\n",
       "        0, 1, 0, 0, 1, 1, 0, 1, 0, 0],\n",
       "       [2, 1, 0, 0, 0, 2, 0, 0, 1, 0, 0, 0, 0, 0, 1, 1, 2, 0, 3, 0, 1, 2,\n",
       "        0, 0, 0, 0, 2, 2, 0, 1, 0, 0, 3, 0, 0, 2, 0, 0, 1, 0, 0, 0, 1, 0,\n",
       "        0, 0, 3, 1, 1, 2, 2, 0, 0, 1, 0, 0, 0, 2, 0, 0, 0, 2, 0, 0, 0, 1,\n",
       "        0, 3, 2, 1, 0, 0, 0, 0, 0, 0, 0, 0, 0, 1, 1, 0, 1, 0, 2, 0, 3, 0,\n",
       "        0, 2, 0, 0, 0, 2, 1, 0, 0, 0, 2, 1, 0, 1, 1, 1, 0, 0, 1, 1, 1, 0,\n",
       "        0, 0, 1, 1, 0, 0, 0, 0, 6, 1]], dtype=int64)"
      ]
     },
     "execution_count": 76,
     "metadata": {},
     "output_type": "execute_result"
    }
   ],
   "source": [
    "vector_matrix.toarray()"
   ]
  },
  {
   "cell_type": "code",
   "execution_count": 77,
   "metadata": {},
   "outputs": [
    {
     "ename": "SyntaxError",
     "evalue": "invalid syntax (<ipython-input-77-9b13f5cfa90e>, line 5)",
     "output_type": "error",
     "traceback": [
      "\u001b[1;36m  File \u001b[1;32m\"<ipython-input-77-9b13f5cfa90e>\"\u001b[1;36m, line \u001b[1;32m5\u001b[0m\n\u001b[1;33m    doc_names = [doc{i+1}' for i, _ in enumerate(matrix)]\u001b[0m\n\u001b[1;37m                    ^\u001b[0m\n\u001b[1;31mSyntaxError\u001b[0m\u001b[1;31m:\u001b[0m invalid syntax\n"
     ]
    }
   ],
   "source": [
    "import pandas as pd\n",
    "\n",
    "def create_dataframe(matrix, tokens):\n",
    "\n",
    "    doc_names = [doc{i+1}' for i, _ in enumerate(matrix)]\n",
    "    df = pd.DataFrame(data=matrix, index=doc_names, columns=tokens)\n",
    "    return(df)"
   ]
  },
  {
   "cell_type": "code",
   "execution_count": 78,
   "metadata": {},
   "outputs": [
    {
     "data": {
      "text/html": [
       "<div>\n",
       "<style scoped>\n",
       "    .dataframe tbody tr th:only-of-type {\n",
       "        vertical-align: middle;\n",
       "    }\n",
       "\n",
       "    .dataframe tbody tr th {\n",
       "        vertical-align: top;\n",
       "    }\n",
       "\n",
       "    .dataframe thead th {\n",
       "        text-align: right;\n",
       "    }\n",
       "</style>\n",
       "<table border=\"1\" class=\"dataframe\">\n",
       "  <thead>\n",
       "    <tr style=\"text-align: right;\">\n",
       "      <th></th>\n",
       "      <th>10</th>\n",
       "      <th>about</th>\n",
       "      <th>all</th>\n",
       "      <th>amongst</th>\n",
       "      <th>and</th>\n",
       "      <th>any</th>\n",
       "      <th>are</th>\n",
       "      <th>as</th>\n",
       "      <th>ask</th>\n",
       "      <th>attractive</th>\n",
       "      <th>...</th>\n",
       "      <th>varieties</th>\n",
       "      <th>very</th>\n",
       "      <th>want</th>\n",
       "      <th>we</th>\n",
       "      <th>white</th>\n",
       "      <th>world</th>\n",
       "      <th>worship</th>\n",
       "      <th>yellow</th>\n",
       "      <th>you</th>\n",
       "      <th>your</th>\n",
       "    </tr>\n",
       "  </thead>\n",
       "  <tbody>\n",
       "    <tr>\n",
       "      <th>doc_1</th>\n",
       "      <td>0</td>\n",
       "      <td>0</td>\n",
       "      <td>2</td>\n",
       "      <td>1</td>\n",
       "      <td>5</td>\n",
       "      <td>0</td>\n",
       "      <td>1</td>\n",
       "      <td>1</td>\n",
       "      <td>0</td>\n",
       "      <td>1</td>\n",
       "      <td>...</td>\n",
       "      <td>1</td>\n",
       "      <td>1</td>\n",
       "      <td>0</td>\n",
       "      <td>0</td>\n",
       "      <td>1</td>\n",
       "      <td>0</td>\n",
       "      <td>1</td>\n",
       "      <td>1</td>\n",
       "      <td>0</td>\n",
       "      <td>0</td>\n",
       "    </tr>\n",
       "    <tr>\n",
       "      <th>doc_2</th>\n",
       "      <td>0</td>\n",
       "      <td>0</td>\n",
       "      <td>1</td>\n",
       "      <td>0</td>\n",
       "      <td>4</td>\n",
       "      <td>0</td>\n",
       "      <td>4</td>\n",
       "      <td>2</td>\n",
       "      <td>0</td>\n",
       "      <td>0</td>\n",
       "      <td>...</td>\n",
       "      <td>0</td>\n",
       "      <td>1</td>\n",
       "      <td>0</td>\n",
       "      <td>0</td>\n",
       "      <td>1</td>\n",
       "      <td>1</td>\n",
       "      <td>0</td>\n",
       "      <td>1</td>\n",
       "      <td>0</td>\n",
       "      <td>0</td>\n",
       "    </tr>\n",
       "    <tr>\n",
       "      <th>doc_3</th>\n",
       "      <td>2</td>\n",
       "      <td>1</td>\n",
       "      <td>0</td>\n",
       "      <td>0</td>\n",
       "      <td>0</td>\n",
       "      <td>2</td>\n",
       "      <td>0</td>\n",
       "      <td>0</td>\n",
       "      <td>1</td>\n",
       "      <td>0</td>\n",
       "      <td>...</td>\n",
       "      <td>0</td>\n",
       "      <td>0</td>\n",
       "      <td>1</td>\n",
       "      <td>1</td>\n",
       "      <td>0</td>\n",
       "      <td>0</td>\n",
       "      <td>0</td>\n",
       "      <td>0</td>\n",
       "      <td>6</td>\n",
       "      <td>1</td>\n",
       "    </tr>\n",
       "  </tbody>\n",
       "</table>\n",
       "<p>3 rows × 120 columns</p>\n",
       "</div>"
      ],
      "text/plain": [
       "       10  about  all  amongst  and  any  are  as  ask  attractive  ...   \\\n",
       "doc_1   0      0    2        1    5    0    1   1    0           1  ...    \n",
       "doc_2   0      0    1        0    4    0    4   2    0           0  ...    \n",
       "doc_3   2      1    0        0    0    2    0   0    1           0  ...    \n",
       "\n",
       "       varieties  very  want  we  white  world  worship  yellow  you  your  \n",
       "doc_1          1     1     0   0      1      0        1       1    0     0  \n",
       "doc_2          0     1     0   0      1      1        0       1    0     0  \n",
       "doc_3          0     0     1   1      0      0        0       0    6     1  \n",
       "\n",
       "[3 rows x 120 columns]"
      ]
     },
     "execution_count": 78,
     "metadata": {},
     "output_type": "execute_result"
    }
   ],
   "source": [
    "create_dataframe(vector_matrix.toarray(),tokens)"
   ]
  },
  {
   "cell_type": "code",
   "execution_count": 74,
   "metadata": {},
   "outputs": [
    {
     "name": "stderr",
     "output_type": "stream",
     "text": [
      "C:\\Users\\shish\\Anaconda3\\lib\\site-packages\\sklearn\\metrics\\pairwise.py:54: DeprecationWarning: `np.float` is a deprecated alias for the builtin `float`. To silence this warning, use `float` by itself. Doing this will not modify any behavior and is safe. If you specifically wanted the numpy scalar type, use `np.float64` here.\n",
      "Deprecated in NumPy 1.20; for more details and guidance: https://numpy.org/devdocs/release/1.20.0-notes.html#deprecations\n",
      "  dtype = np.float\n"
     ]
    },
    {
     "data": {
      "text/html": [
       "<div>\n",
       "<style scoped>\n",
       "    .dataframe tbody tr th:only-of-type {\n",
       "        vertical-align: middle;\n",
       "    }\n",
       "\n",
       "    .dataframe tbody tr th {\n",
       "        vertical-align: top;\n",
       "    }\n",
       "\n",
       "    .dataframe thead th {\n",
       "        text-align: right;\n",
       "    }\n",
       "</style>\n",
       "<table border=\"1\" class=\"dataframe\">\n",
       "  <thead>\n",
       "    <tr style=\"text-align: right;\">\n",
       "      <th></th>\n",
       "      <th>doc_1</th>\n",
       "      <th>doc_2</th>\n",
       "      <th>doc_2</th>\n",
       "    </tr>\n",
       "  </thead>\n",
       "  <tbody>\n",
       "    <tr>\n",
       "      <th>doc_1</th>\n",
       "      <td>1.000000</td>\n",
       "      <td>0.696300</td>\n",
       "      <td>0.173376</td>\n",
       "    </tr>\n",
       "    <tr>\n",
       "      <th>doc_2</th>\n",
       "      <td>0.696300</td>\n",
       "      <td>1.000000</td>\n",
       "      <td>0.149012</td>\n",
       "    </tr>\n",
       "    <tr>\n",
       "      <th>doc_3</th>\n",
       "      <td>0.173376</td>\n",
       "      <td>0.149012</td>\n",
       "      <td>1.000000</td>\n",
       "    </tr>\n",
       "  </tbody>\n",
       "</table>\n",
       "</div>"
      ],
      "text/plain": [
       "          doc_1     doc_2     doc_2\n",
       "doc_1  1.000000  0.696300  0.173376\n",
       "doc_2  0.696300  1.000000  0.149012\n",
       "doc_3  0.173376  0.149012  1.000000"
      ]
     },
     "execution_count": 74,
     "metadata": {},
     "output_type": "execute_result"
    }
   ],
   "source": [
    "from sklearn.metrics.pairwise import cosine_similarity\n",
    "\n",
    "cosine_similarity_matrix = cosine_similarity(vector_matrix)\n",
    "create_dataframe(cosine_similarity_matrix,['doc_1','doc_2','doc_2'])"
   ]
  },
  {
   "cell_type": "code",
   "execution_count": null,
   "metadata": {},
   "outputs": [],
   "source": []
  },
  {
   "cell_type": "code",
   "execution_count": null,
   "metadata": {},
   "outputs": [],
   "source": []
  }
 ],
 "metadata": {
  "kernelspec": {
   "display_name": "Python 3",
   "language": "python",
   "name": "python3"
  },
  "language_info": {
   "codemirror_mode": {
    "name": "ipython",
    "version": 3
   },
   "file_extension": ".py",
   "mimetype": "text/x-python",
   "name": "python",
   "nbconvert_exporter": "python",
   "pygments_lexer": "ipython3",
   "version": "3.7.1"
  }
 },
 "nbformat": 4,
 "nbformat_minor": 2
}
